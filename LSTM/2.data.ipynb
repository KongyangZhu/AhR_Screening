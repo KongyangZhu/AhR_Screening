{
 "cells": [
  {
   "cell_type": "code",
   "execution_count": 8,
   "metadata": {},
   "outputs": [],
   "source": [
    "import os\n",
    "import pandas as pd\n",
    "import matplotlib.pyplot as plt"
   ]
  },
  {
   "cell_type": "code",
   "execution_count": 9,
   "metadata": {},
   "outputs": [
    {
     "name": "stdout",
     "output_type": "stream",
     "text": [
      "['ahr_35x.csv', 'ahr_50x.csv', 'ahr_50x_aug.csv', 'ahr_50x_test.csv', 'ar-lbd_50x.csv', 'aromatase_50x.csv', 'ar_50x.csv', 'er-lbd_50x.csv', 'er_50x.csv', 'ppar-gamma_50x.csv']\n"
     ]
    }
   ],
   "source": [
    "csv_dir = r'D:/R/PycharmProjects/interest/Tox2024/Tox_3/data/AUG'\n",
    "csv_file = [x for x in os.listdir(csv_dir)]\n",
    "print(csv_file)"
   ]
  },
  {
   "cell_type": "code",
   "execution_count": 10,
   "metadata": {},
   "outputs": [
    {
     "name": "stdout",
     "output_type": "stream",
     "text": [
      "ahr_35x.csv 30015 35802 0.4560371940380145\n",
      "ahr_50x.csv 40632 70089 0.36697645433115667\n",
      "ahr_50x_aug.csv 3950 5001 0.44129147581275835\n",
      "ahr_50x_test.csv 36951 44837 0.4517899936420991\n",
      "ar-lbd_50x.csv 14161 80683 0.14930833790223946\n",
      "aromatase_50x.csv 16831 66636 0.2016485557166305\n",
      "ar_50x.csv 17938 87419 0.1702592139107985\n",
      "er-lbd_50x.csv 19277 80849 0.19252741545652477\n",
      "er_50x.csv 39960 65640 0.3784090909090909\n",
      "ppar-gamma_50x.csv 9679 77302 0.11127717547510375\n"
     ]
    }
   ],
   "source": [
    "for i in csv_file:\n",
    "    nr = pd.read_csv(os.path.join(csv_dir, i))\n",
    "\n",
    "    pos = len(nr[nr['ACTIVITY'] == 1])\n",
    "    neg = len(nr[nr['ACTIVITY'] == 0])\n",
    "    print(i, pos, neg, pos/(pos + neg))"
   ]
  },
  {
   "cell_type": "code",
   "execution_count": 7,
   "metadata": {},
   "outputs": [],
   "source": [
    "ahr = pd.read_csv(os.path.join(csv_dir, 'ahr_50x.csv'))\n",
    "len_li = []\n",
    "for i in ahr['SMILES']:\n",
    "    len_li.append(len(i))"
   ]
  },
  {
   "cell_type": "code",
   "execution_count": 15,
   "metadata": {},
   "outputs": [
    {
     "data": {
      "text/plain": [
       "(array([2.500e+01, 3.940e+02, 1.185e+03, 3.728e+03, 3.608e+03, 7.348e+03,\n",
       "        5.462e+03, 7.945e+03, 8.740e+03, 5.940e+03, 9.422e+03, 5.897e+03,\n",
       "        8.333e+03, 5.267e+03, 6.754e+03, 5.505e+03, 3.181e+03, 3.894e+03,\n",
       "        2.093e+03, 2.681e+03, 1.516e+03, 1.929e+03, 1.629e+03, 9.000e+02,\n",
       "        1.045e+03, 5.090e+02, 6.810e+02, 3.910e+02, 5.890e+02, 6.320e+02,\n",
       "        3.650e+02, 3.270e+02, 1.720e+02, 2.920e+02, 1.200e+02, 1.080e+02,\n",
       "        1.260e+02, 1.020e+02, 2.300e+02, 1.420e+02, 1.530e+02, 7.300e+01,\n",
       "        9.900e+01, 1.150e+02, 9.800e+01, 1.010e+02, 6.600e+01, 1.130e+02,\n",
       "        4.100e+01, 6.400e+01, 3.100e+01, 1.500e+01, 1.900e+01, 1.300e+01,\n",
       "        4.500e+01, 3.300e+01, 3.300e+01, 1.700e+01, 8.000e+00, 9.000e+00,\n",
       "        2.100e+01, 2.700e+01, 1.700e+01, 4.000e+00, 2.500e+01, 1.200e+01,\n",
       "        7.000e+00, 7.000e+00, 2.700e+01, 9.000e+00, 1.200e+01, 2.000e+01,\n",
       "        7.000e+00, 1.200e+01, 5.000e+00, 1.000e+01, 7.000e+00, 1.400e+01,\n",
       "        5.000e+00, 0.000e+00, 0.000e+00, 0.000e+00, 1.000e+00, 1.000e+00,\n",
       "        6.000e+00, 3.000e+00, 2.000e+00, 8.000e+00, 7.000e+00, 2.000e+00,\n",
       "        0.000e+00, 1.400e+01, 2.100e+01, 2.000e+01, 9.000e+00, 5.000e+00,\n",
       "        0.000e+00, 5.000e+00, 6.000e+00, 1.000e+01]),\n",
       " array([  2.  ,   4.57,   7.14,   9.71,  12.28,  14.85,  17.42,  19.99,\n",
       "         22.56,  25.13,  27.7 ,  30.27,  32.84,  35.41,  37.98,  40.55,\n",
       "         43.12,  45.69,  48.26,  50.83,  53.4 ,  55.97,  58.54,  61.11,\n",
       "         63.68,  66.25,  68.82,  71.39,  73.96,  76.53,  79.1 ,  81.67,\n",
       "         84.24,  86.81,  89.38,  91.95,  94.52,  97.09,  99.66, 102.23,\n",
       "        104.8 , 107.37, 109.94, 112.51, 115.08, 117.65, 120.22, 122.79,\n",
       "        125.36, 127.93, 130.5 , 133.07, 135.64, 138.21, 140.78, 143.35,\n",
       "        145.92, 148.49, 151.06, 153.63, 156.2 , 158.77, 161.34, 163.91,\n",
       "        166.48, 169.05, 171.62, 174.19, 176.76, 179.33, 181.9 , 184.47,\n",
       "        187.04, 189.61, 192.18, 194.75, 197.32, 199.89, 202.46, 205.03,\n",
       "        207.6 , 210.17, 212.74, 215.31, 217.88, 220.45, 223.02, 225.59,\n",
       "        228.16, 230.73, 233.3 , 235.87, 238.44, 241.01, 243.58, 246.15,\n",
       "        248.72, 251.29, 253.86, 256.43, 259.  ]),\n",
       " <BarContainer object of 100 artists>)"
      ]
     },
     "execution_count": 15,
     "metadata": {},
     "output_type": "execute_result"
    },
    {
     "data": {
      "image/png": "[encoded data removed]",
      "text/plain": [
       "<Figure size 640x480 with 1 Axes>"
      ]
     },
     "metadata": {},
     "output_type": "display_data"
    }
   ],
   "source": [
    "plt.hist(len_li, bins=100, color='blue', alpha=0.5)"
   ]
  }
 ],
 "metadata": {
  "kernelspec": {
   "display_name": "Python 3",
   "language": "python",
   "name": "python3"
  },
  "language_info": {
   "codemirror_mode": {
    "name": "ipython",
    "version": 3
   },
   "file_extension": ".py",
   "mimetype": "text/x-python",
   "name": "python",
   "nbconvert_exporter": "python",
   "pygments_lexer": "ipython3",
   "version": "3.10.5"
  }
 },
 "nbformat": 4,
 "nbformat_minor": 2
}
